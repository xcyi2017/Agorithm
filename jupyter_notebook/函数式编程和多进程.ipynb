{
 "cells": [
  {
   "cell_type": "code",
   "execution_count": 1,
   "metadata": {},
   "outputs": [],
   "source": [
    "data = [1,2,3,4,5,6]"
   ]
  },
  {
   "cell_type": "code",
   "execution_count": 2,
   "metadata": {},
   "outputs": [],
   "source": [
    "res = [i*2 for i in data] # 列表解析"
   ]
  },
  {
   "cell_type": "code",
   "execution_count": 3,
   "metadata": {},
   "outputs": [],
   "source": [
    "res1 = (i*2 for i in data) # 生成器"
   ]
  },
  {
   "cell_type": "markdown",
   "metadata": {},
   "source": [
    "# 函數式編程\n",
    "\n",
    "常用的有map、filter、reduce"
   ]
  },
  {
   "cell_type": "code",
   "execution_count": 4,
   "metadata": {},
   "outputs": [
    {
     "data": {
      "text/plain": [
       "[2, 4, 6, 8, 10, 12]"
      ]
     },
     "execution_count": 4,
     "metadata": {},
     "output_type": "execute_result"
    }
   ],
   "source": [
    "res3 = list(map(lambda x:2*x, data))\n",
    "res3"
   ]
  },
  {
   "cell_type": "markdown",
   "metadata": {},
   "source": [
    "## Example2"
   ]
  },
  {
   "cell_type": "code",
   "execution_count": 5,
   "metadata": {},
   "outputs": [],
   "source": [
    "data2 = [\n",
    "    {\"city\":\"Beijing\", \"temp\":20.8},\n",
    "    {\"city\":\"Changsha\", \"temp\":22.4},\n",
    "    {\"city\":\"Chongqing\", \"temp\":22.8},\n",
    "    {\"city\":\"Guangzhou\", \"temp\":25.1},\n",
    "    {\"city\":\"Shanghai\", \"temp\":20.3},\n",
    "    {\"city\":\"HongKong\", \"temp\":25.9}    \n",
    "]"
   ]
  },
  {
   "cell_type": "code",
   "execution_count": 6,
   "metadata": {},
   "outputs": [
    {
     "data": {
      "text/plain": [
       "[{'city': 'Beijing', 'temp': 69.44},\n",
       " {'city': 'Changsha', 'temp': 72.32},\n",
       " {'city': 'Chongqing', 'temp': 73.04},\n",
       " {'city': 'Guangzhou', 'temp': 77.18},\n",
       " {'city': 'Shanghai', 'temp': 68.54},\n",
       " {'city': 'HongKong', 'temp': 78.62}]"
      ]
     },
     "execution_count": 6,
     "metadata": {},
     "output_type": "execute_result"
    }
   ],
   "source": [
    "def aux(item):\n",
    "    item = item.copy()\n",
    "    item['temp'] = item['temp'] * 9. / 5. + 32.\n",
    "    return item\n",
    "list(map(lambda x:aux(x), data2))"
   ]
  },
  {
   "cell_type": "code",
   "execution_count": 7,
   "metadata": {},
   "outputs": [
    {
     "name": "stdout",
     "output_type": "stream",
     "text": [
      "29\n",
      "29\n"
     ]
    }
   ],
   "source": [
    "# 求最大公约数\n",
    "# 更相减损法\n",
    "def more_subtraction(a, b):\n",
    "    def helper(a, b, res):\n",
    "        if a < b: return helper(b, a, res)\n",
    "        if not a%2 and not b%2: res *= 2\n",
    "        next_b = a - b\n",
    "        if next_b == b:\n",
    "            return res * b\n",
    "        return helper(b, next_b, res)\n",
    "    return helper(a, b, 1)\n",
    "\n",
    "# 辗转相除法\n",
    "def impact_to_phase_division(a, b):\n",
    "    if a < b:\n",
    "        return impact_to_phase_division(b, a)\n",
    "    next_b = a%b\n",
    "    if next_b != 0:\n",
    "        return impact_to_phase_division(b, next_b)\n",
    "    return b\n",
    "a = 319\n",
    "b = 377\n",
    "print(more_subtraction(a, b))\n",
    "print(impact_to_phase_division(a, b))"
   ]
  },
  {
   "cell_type": "code",
   "execution_count": 8,
   "metadata": {},
   "outputs": [],
   "source": [
    "#实现分数的化简\n",
    "def fraction_reduction(frac):\n",
    "    a, b = frac\n",
    "    greatest_common_divisor = impact_to_phase_division(a, b)\n",
    "    return a // greatest_common_divisor, b // greatest_common_divisor"
   ]
  },
  {
   "cell_type": "code",
   "execution_count": 9,
   "metadata": {},
   "outputs": [
    {
     "data": {
      "text/plain": [
       "(1, 3)"
      ]
     },
     "execution_count": 9,
     "metadata": {},
     "output_type": "execute_result"
    }
   ],
   "source": [
    "fraction_reduction((3, 9))"
   ]
  },
  {
   "cell_type": "code",
   "execution_count": 10,
   "metadata": {},
   "outputs": [
    {
     "data": {
      "text/plain": [
       "[(1, 5), (1, 3), (1, 2), (1, 3)]"
      ]
     },
     "execution_count": 10,
     "metadata": {},
     "output_type": "execute_result"
    }
   ],
   "source": [
    "data3 = [(1,5),(3,9),(2,4),(6,18)]\n",
    "list(map(fraction_reduction, data3))"
   ]
  },
  {
   "cell_type": "code",
   "execution_count": 11,
   "metadata": {},
   "outputs": [],
   "source": [
    "import random\n",
    "data4 = [(random.randint(1, 1000), random.randint(1, 1000)) for _ in range(100000)]"
   ]
  },
  {
   "cell_type": "code",
   "execution_count": 12,
   "metadata": {},
   "outputs": [
    {
     "name": "stdout",
     "output_type": "stream",
     "text": [
      "CPU times: user 127 ms, sys: 7.63 ms, total: 135 ms\n",
      "Wall time: 135 ms\n"
     ]
    }
   ],
   "source": [
    "%%time\n",
    "n_data4 = list(map(fraction_reduction, data4))"
   ]
  },
  {
   "cell_type": "code",
   "execution_count": 13,
   "metadata": {},
   "outputs": [],
   "source": [
    "from multiprocessing import Pool"
   ]
  },
  {
   "cell_type": "code",
   "execution_count": 14,
   "metadata": {},
   "outputs": [
    {
     "name": "stdout",
     "output_type": "stream",
     "text": [
      "CPU times: user 73.4 ms, sys: 37.1 ms, total: 110 ms\n",
      "Wall time: 192 ms\n"
     ]
    }
   ],
   "source": [
    "%%time\n",
    "p = Pool(4)\n",
    "res4 = p.map(fraction_reduction, data4)"
   ]
  },
  {
   "cell_type": "code",
   "execution_count": null,
   "metadata": {},
   "outputs": [],
   "source": []
  }
 ],
 "metadata": {
  "kernelspec": {
   "display_name": "Python 3",
   "language": "python",
   "name": "python3"
  },
  "language_info": {
   "codemirror_mode": {
    "name": "ipython",
    "version": 3
   },
   "file_extension": ".py",
   "mimetype": "text/x-python",
   "name": "python",
   "nbconvert_exporter": "python",
   "pygments_lexer": "ipython3",
   "version": "3.6.9"
  }
 },
 "nbformat": 4,
 "nbformat_minor": 4
}
